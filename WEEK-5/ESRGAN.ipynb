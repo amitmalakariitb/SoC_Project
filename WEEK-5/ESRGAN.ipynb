{
 "cells": [
  {
   "cell_type": "code",
   "execution_count": 6,
   "id": "7782efeb",
   "metadata": {},
   "outputs": [],
   "source": [
    "import os\n",
    "os.sys.path\n",
    "import torch\n",
    "from torch import nn\n",
    "import torch.nn as n\n",
    "import torch.nn.functional as f\n",
    "import numpy as np\n",
    "from torchsummary import summary\n",
    "import torch.optim as optim\n",
    "from torchvision import models, datasets\n",
    "from torchvision.models import vgg19\n",
    "from torchvision.transforms import transforms\n",
    "from torch.utils.data import Dataset, DataLoader\n",
    "from PIL import Image\n",
    "from matplotlib import pyplot as plt\n",
    "from tqdm import tqdm_notebook,tqdm\n",
    "import  cv2\n",
    "import torchvision.utils as vutils\n",
    "from torchsummary import summary\n",
    "from torchvision.transforms import ToPILImage\n",
    "from torchvision.utils import save_image\n",
    "import albumentations as A\n",
    "from albumentations.pytorch import ToTensorV2\n",
    "import torch.cuda.amp as amp"
   ]
  },
  {
   "cell_type": "code",
   "execution_count": 11,
   "id": "06397b08",
   "metadata": {},
   "outputs": [
    {
     "name": "stdout",
     "output_type": "stream",
     "text": [
      "torch.Size([8, 3, 128, 128])\n"
     ]
    }
   ],
   "source": [
    "HIGH_RES = 128\n",
    "LOW_RES = HIGH_RES // 4\n",
    "\n",
    "class MyImageFolder(Dataset):\n",
    "    def __init__(self, root_dir):\n",
    "        super(MyImageFolder, self).__init__()\n",
    "        self.data = []\n",
    "        self.root_dir = root_dir\n",
    "        self.image_files = os.listdir(root_dir)\n",
    "        \n",
    "        self.both_transforms = A.Compose([\n",
    "             A.RandomCrop(width=HIGH_RES, height=HIGH_RES), A.HorizontalFlip(p=0.5), A.RandomRotate90(p=0.5),\n",
    "        ])\n",
    "        \n",
    "        self.lowres_transform = A.Compose([\n",
    "            A.Resize(width=LOW_RES, height=LOW_RES, interpolation=Image.BICUBIC),A.Normalize(mean=[0, 0, 0], std=[1, 1, 1]), ToTensorV2(),\n",
    "        ])\n",
    "        \n",
    "        self.highres_transform = A.Compose([\n",
    "             A.Normalize(mean=[0, 0, 0], std=[1, 1, 1]), ToTensorV2(),\n",
    "        ])\n",
    "        \n",
    "\n",
    "    def __len__(self):\n",
    "        return len(self.image_files)\n",
    "\n",
    "    def __getitem__(self, index):\n",
    "        image_path = os.path.join(self.root_dir, self.image_files[index])\n",
    "        image = Image.open(image_path).convert(\"RGB\")\n",
    "        image= np.array(image)\n",
    "        both_transform = self.both_transforms(image=image)[\"image\"]\n",
    "        low_res = self.lowres_transform(image=both_transform)[\"image\"]\n",
    "        high_res = self.highres_transform(image=both_transform)[\"image\"]\n",
    "        return low_res, high_res\n",
    "\n",
    "\n",
    "def test():\n",
    "    dataset = MyImageFolder(root_dir=\"DIV2K_train_HR\")\n",
    "    loader = DataLoader(dataset, batch_size=8)\n",
    "    \n",
    "    to_pil = ToPILImage()\n",
    "\n",
    "    for low_res, high_res in loader:\n",
    "        image1 = to_pil(low_res[0])\n",
    "        plt.imshow(image1)\n",
    "        plt.show()\n",
    "        image2 = to_pil(high_res[0])\n",
    "        plt.imshow(image2)\n",
    "        plt.show()\n",
    "        print(high_res.shape)\n",
    "        break\n",
    "if __name__ == \"__main__\":\n",
    "    test()\n",
    "    \n",
    "test_transform = A.Compose(\n",
    "    [\n",
    "        A.Normalize(mean=[0, 0, 0], std=[1, 1, 1]),\n",
    "        ToTensorV2(),\n",
    "    ]\n",
    ")"
   ]
  },
  {
   "cell_type": "code",
   "execution_count": 3,
   "id": "49c5c01f",
   "metadata": {},
   "outputs": [],
   "source": [
    "device = torch.device(\"cuda\" if torch.cuda.is_available() else \"cpu\")"
   ]
  },
  {
   "cell_type": "code",
   "execution_count": 4,
   "id": "ea82e9ab",
   "metadata": {},
   "outputs": [
    {
     "name": "stdout",
     "output_type": "stream",
     "text": [
      "torch.Size([5, 3, 96, 96])\n",
      "torch.Size([5, 1])\n"
     ]
    }
   ],
   "source": [
    "class ConvBlock(nn.Module):\n",
    "    def __init__(self, in_channels, out_channels, use_act, **kwargs):\n",
    "        super().__init__()\n",
    "        self.cnn = nn.Conv2d(\n",
    "            in_channels,\n",
    "            out_channels,\n",
    "            **kwargs,\n",
    "            bias=True,\n",
    "        )\n",
    "        self.act = nn.LeakyReLU(0.2, inplace=True) if use_act else nn.Identity()\n",
    "\n",
    "    def forward(self, x):\n",
    "        return self.act(self.cnn(x))\n",
    "\n",
    "\n",
    "class UpsampleBlock(nn.Module):\n",
    "    def __init__(self, in_c, scale_factor=2):\n",
    "        super().__init__()\n",
    "        self.upsample = nn.Upsample(scale_factor=scale_factor, mode=\"nearest\")\n",
    "        self.conv = nn.Conv2d(in_c, in_c, 3, 1, 1, bias=True)\n",
    "        self.act = nn.LeakyReLU(0.2, inplace=True)\n",
    "\n",
    "    def forward(self, x):\n",
    "        return self.act(self.conv(self.upsample(x)))\n",
    "\n",
    "\n",
    "class DenseResidualBlock(nn.Module):\n",
    "    def __init__(self, in_channels, channels=32, residual_beta=0.2):\n",
    "        super().__init__()\n",
    "        self.residual_beta = residual_beta\n",
    "        self.blocks = nn.ModuleList()\n",
    "\n",
    "        for i in range(5):\n",
    "            self.blocks.append(\n",
    "                ConvBlock(\n",
    "                    in_channels + channels * i,\n",
    "                    channels if i <= 3 else in_channels,\n",
    "                    kernel_size=3,\n",
    "                    stride=1,\n",
    "                    padding=1,\n",
    "                    use_act=True if i <= 3 else False,\n",
    "                )\n",
    "            )\n",
    "\n",
    "    def forward(self, x):\n",
    "        new_inputs = x\n",
    "        for block in self.blocks:\n",
    "            out = block(new_inputs)\n",
    "            new_inputs = torch.cat([new_inputs, out], dim=1)\n",
    "        return self.residual_beta * out + x\n",
    "\n",
    "\n",
    "class RRDB(nn.Module):\n",
    "    def __init__(self, in_channels, residual_beta=0.2):\n",
    "        super().__init__()\n",
    "        self.residual_beta = residual_beta\n",
    "        self.rrdb = nn.Sequential(*[DenseResidualBlock(in_channels) for _ in range(3)])\n",
    "\n",
    "    def forward(self, x):\n",
    "        return self.rrdb(x) * self.residual_beta + x\n",
    "\n",
    "\n",
    "class Generator(nn.Module):\n",
    "    def __init__(self, in_channels=3, num_channels=64, num_blocks=23):\n",
    "        super().__init__()\n",
    "        self.initial = nn.Conv2d(\n",
    "            in_channels,\n",
    "            num_channels,\n",
    "            kernel_size=3,\n",
    "            stride=1,\n",
    "            padding=1,\n",
    "            bias=True,\n",
    "        )\n",
    "        self.residuals = nn.Sequential(*[RRDB(num_channels) for _ in range(num_blocks)])\n",
    "        self.conv = nn.Conv2d(num_channels, num_channels, kernel_size=3, stride=1, padding=1)\n",
    "        self.upsamples = nn.Sequential(\n",
    "            UpsampleBlock(num_channels), UpsampleBlock(num_channels),\n",
    "        )\n",
    "        self.final = nn.Sequential(\n",
    "            nn.Conv2d(num_channels, num_channels, 3, 1, 1, bias=True),\n",
    "            nn.LeakyReLU(0.2, inplace=True),\n",
    "            nn.Conv2d(num_channels, in_channels, 3, 1, 1, bias=True),\n",
    "        )\n",
    "\n",
    "    def forward(self, x):\n",
    "        initial = self.initial(x)\n",
    "        x = self.conv(self.residuals(initial)) + initial\n",
    "        x = self.upsamples(x)\n",
    "        return self.final(x)\n",
    "\n",
    "\n",
    "class Discriminator(nn.Module):\n",
    "    def __init__(self, in_channels=3, features=[64, 64, 128, 128, 256, 256, 512, 512]):\n",
    "        super().__init__()\n",
    "        blocks = []\n",
    "        for idx, feature in enumerate(features):\n",
    "            blocks.append(\n",
    "                ConvBlock(\n",
    "                    in_channels,\n",
    "                    feature,\n",
    "                    kernel_size=3,\n",
    "                    stride=1 + idx % 2,\n",
    "                    padding=1,\n",
    "                    use_act=True,\n",
    "                ),\n",
    "            )\n",
    "            in_channels = feature\n",
    "\n",
    "        self.blocks = nn.Sequential(*blocks)\n",
    "        self.classifier = nn.Sequential(\n",
    "            nn.AdaptiveAvgPool2d((6, 6)),\n",
    "            nn.Flatten(),\n",
    "            nn.Linear(512 * 6 * 6, 1024),\n",
    "            nn.LeakyReLU(0.2, inplace=True),\n",
    "            nn.Linear(1024, 1),\n",
    "        )\n",
    "\n",
    "    def forward(self, x):\n",
    "        x = self.blocks(x)\n",
    "        return self.classifier(x)\n",
    "\n",
    "def initialize_weights(model, scale=0.1):\n",
    "    for m in model.modules():\n",
    "        if isinstance(m, nn.Conv2d):\n",
    "            nn.init.kaiming_normal_(m.weight.data)\n",
    "            m.weight.data *= scale\n",
    "\n",
    "        elif isinstance(m, nn.Linear):\n",
    "            nn.init.kaiming_normal_(m.weight.data)\n",
    "            m.weight.data *= scale\n",
    "\n",
    "\n",
    "def test():\n",
    "    gen = Generator()\n",
    "    disc = Discriminator()\n",
    "    low_res = 24\n",
    "    x = torch.randn((5, 3, low_res, low_res))\n",
    "    gen_out = gen(x)\n",
    "    disc_out = disc(gen_out)\n",
    "\n",
    "    print(gen_out.shape)\n",
    "    print(disc_out.shape)\n",
    "\n",
    "if __name__ == \"__main__\":\n",
    "    test()"
   ]
  },
  {
   "cell_type": "code",
   "execution_count": 5,
   "id": "397ad138",
   "metadata": {},
   "outputs": [],
   "source": [
    "class VGGLoss(nn.Module):\n",
    "    def __init__(self):\n",
    "        super().__init__()\n",
    "        self.vgg = vgg19(pretrained=True).features[:35].eval().to(device)\n",
    "\n",
    "        for param in self.vgg.parameters():\n",
    "            param.requires_grad = False\n",
    "\n",
    "        self.loss = nn.MSELoss()\n",
    "\n",
    "    def forward(self, input, target):\n",
    "        vgg_input_features = self.vgg(input)\n",
    "        vgg_target_features = self.vgg(target)\n",
    "        return self.loss(vgg_input_features, vgg_target_features)"
   ]
  },
  {
   "cell_type": "code",
   "execution_count": 14,
   "id": "5f8b7001",
   "metadata": {},
   "outputs": [],
   "source": []
  },
  {
   "cell_type": "code",
   "execution_count": 8,
   "id": "681247e0",
   "metadata": {
    "scrolled": true
   },
   "outputs": [],
   "source": [
    "import time\n",
    "# Define the training function\n",
    "def train_esrgan(generator, discriminator, loader, num_epochs, device, save_dir=\"saved_models\"):\n",
    "    if not os.path.exists(save_dir):\n",
    "        os.makedirs(save_dir)\n",
    "        \n",
    "    criterion = nn.BCEWithLogitsLoss() \n",
    "    vgg_loss = VGGLoss()\n",
    "    l1 = nn.L1Loss()\n",
    "\n",
    "    opt_gen = optim.Adam(generator.parameters(), lr=1e-4, betas=(0.0, 0.9))\n",
    "    opt_disc = optim.Adam(discriminator.parameters(), lr=1e-4, betas=(0.0, 0.9))\n",
    "    \n",
    "    start_epoch = 0\n",
    "    model_name = \"esrgan_model.pt\"\n",
    "    \n",
    "    if os.path.exists(os.path.join(save_dir, model_name)):\n",
    "        checkpoint = torch.load(os.path.join(save_dir, model_name))\n",
    "        generator.load_state_dict(checkpoint['generator_state_dict'])\n",
    "        discriminator.load_state_dict(checkpoint['discriminator_state_dict'])\n",
    "        opt_gen.load_state_dict(checkpoint['opt_gen_state_dict'])\n",
    "        opt_disc.load_state_dict(checkpoint['opt_disc_state_dict'])\n",
    "        start_epoch = checkpoint['epoch'] + 1\n",
    "        print(f\"Resuming training from epoch {start_epoch}...\")\n",
    "\n",
    "    \n",
    "    for epoch in range(num_epochs):\n",
    "        loop = tqdm(loader, leave=True)\n",
    "        for idx, (low_res, high_res) in enumerate(loop):\n",
    "            high_res = high_res.to(device)\n",
    "            low_res = low_res.to(device)\n",
    "\n",
    "            # Train Discriminator\n",
    "            opt_disc.zero_grad()\n",
    "\n",
    "            # Generate high-resolution images from low-resolution input\n",
    "            generated_hr_images = generator(low_res)\n",
    "\n",
    "            # Train discriminator on real images\n",
    "            real_labels = torch.ones(high_res.size(0), device=device)\n",
    "            real_outputs = discriminator(high_res).view(-1)\n",
    "            d_loss_real = criterion(real_outputs, real_labels)\n",
    "\n",
    "            # Train discriminator on generated images\n",
    "            fake_labels = torch.zeros(high_res.size(0), device=device)\n",
    "            fake_outputs = discriminator(generated_hr_images.detach()).view(-1)\n",
    "            d_loss_fake = criterion(fake_outputs, fake_labels)\n",
    "\n",
    "            # Total discriminator loss\n",
    "            d_loss = d_loss_real + d_loss_fake\n",
    "            d_loss.backward()\n",
    "            opt_disc.step()\n",
    "\n",
    "            # Train Generator\n",
    "            \n",
    "            opt_gen.zero_grad()\n",
    "            adversarial_loss= 5e-3 * -torch.mean(discriminator(generated_hr_images))\n",
    "\n",
    "            content_loss = 1e-2 * l1(generated_hr_images, high_res)\n",
    "            loss_for_vgg = vgg_loss(generated_hr_images, high_res)\n",
    "\n",
    "            # Total generator loss\n",
    "            \n",
    "            g_loss = adversarial_loss + 0.01 * content_loss + loss_for_vgg\n",
    "            g_loss.backward()\n",
    "            opt_gen.step()\n",
    "\n",
    "            # Print training progress\n",
    "            \n",
    "            print(f\"[Epoch {epoch+1}/{num_epochs}] [Batch {idx+1}/{len(loader)}] \"\n",
    "                  f\"[D loss: {d_loss.item():.4f}] [G loss: {g_loss.item():.4f}]\")\n",
    "\n",
    "        # Save generated images at the end of each epoch\n",
    "        save_image(generated_hr_images.data[:2], 'test_images/image_%d'%epoch+'.png', normalize=True)\n",
    "\n",
    "        torch.save({\n",
    "            'epoch': epoch,\n",
    "            'generator_state_dict': generator.state_dict(),\n",
    "            'discriminator_state_dict': discriminator.state_dict(),\n",
    "            'opt_gen_state_dict': opt_gen.state_dict(),\n",
    "            'opt_disc_state_dict': opt_disc.state_dict(),\n",
    "        }, os.path.join(save_dir, model_name))\n",
    "\n",
    "        time.sleep(90);\n"
   ]
  },
  {
   "cell_type": "code",
   "execution_count": 9,
   "id": "d3bf22ea",
   "metadata": {
    "scrolled": true
   },
   "outputs": [
    {
     "name": "stdout",
     "output_type": "stream",
     "text": [
      "Resuming training from epoch 1...\n"
     ]
    },
    {
     "name": "stderr",
     "output_type": "stream",
     "text": [
      "  5%|████                                                                              | 1/20 [02:01<38:30, 121.63s/it]"
     ]
    },
    {
     "name": "stdout",
     "output_type": "stream",
     "text": [
      "[Epoch 1/40] [Batch 1/20] [D loss: 0.0819] [G loss: 2.8437]\n"
     ]
    },
    {
     "name": "stderr",
     "output_type": "stream",
     "text": [
      "\r",
      " 10%|████████▏                                                                         | 2/20 [04:11<37:56, 126.45s/it]"
     ]
    },
    {
     "name": "stdout",
     "output_type": "stream",
     "text": [
      "[Epoch 1/40] [Batch 2/20] [D loss: 0.0149] [G loss: 3.8313]\n"
     ]
    },
    {
     "name": "stderr",
     "output_type": "stream",
     "text": [
      "\r",
      " 15%|████████████▎                                                                     | 3/20 [06:30<37:30, 132.37s/it]"
     ]
    },
    {
     "name": "stdout",
     "output_type": "stream",
     "text": [
      "[Epoch 1/40] [Batch 3/20] [D loss: 0.0047] [G loss: 2.9990]\n"
     ]
    },
    {
     "name": "stderr",
     "output_type": "stream",
     "text": [
      "\r",
      " 20%|████████████████▍                                                                 | 4/20 [08:48<35:48, 134.30s/it]"
     ]
    },
    {
     "name": "stdout",
     "output_type": "stream",
     "text": [
      "[Epoch 1/40] [Batch 4/20] [D loss: 0.0116] [G loss: 4.1864]\n"
     ]
    },
    {
     "name": "stderr",
     "output_type": "stream",
     "text": [
      "\r",
      " 25%|████████████████████▌                                                             | 5/20 [11:24<35:31, 142.12s/it]"
     ]
    },
    {
     "name": "stdout",
     "output_type": "stream",
     "text": [
      "[Epoch 1/40] [Batch 5/20] [D loss: 0.0069] [G loss: 3.2207]\n"
     ]
    },
    {
     "name": "stderr",
     "output_type": "stream",
     "text": [
      "\r",
      " 30%|████████████████████████▌                                                         | 6/20 [13:46<33:10, 142.15s/it]"
     ]
    },
    {
     "name": "stdout",
     "output_type": "stream",
     "text": [
      "[Epoch 1/40] [Batch 6/20] [D loss: 0.1124] [G loss: 3.0991]\n"
     ]
    },
    {
     "name": "stderr",
     "output_type": "stream",
     "text": [
      "\r",
      " 35%|████████████████████████████▋                                                     | 7/20 [16:01<30:19, 139.98s/it]"
     ]
    },
    {
     "name": "stdout",
     "output_type": "stream",
     "text": [
      "[Epoch 1/40] [Batch 7/20] [D loss: 4.6740] [G loss: 3.7055]\n"
     ]
    },
    {
     "name": "stderr",
     "output_type": "stream",
     "text": [
      "\r",
      " 40%|████████████████████████████████▊                                                 | 8/20 [18:10<27:17, 136.45s/it]"
     ]
    },
    {
     "name": "stdout",
     "output_type": "stream",
     "text": [
      "[Epoch 1/40] [Batch 8/20] [D loss: 0.4452] [G loss: 3.6487]\n"
     ]
    },
    {
     "name": "stderr",
     "output_type": "stream",
     "text": [
      "\r",
      " 45%|████████████████████████████████████▉                                             | 9/20 [20:19<24:34, 134.01s/it]"
     ]
    },
    {
     "name": "stdout",
     "output_type": "stream",
     "text": [
      "[Epoch 1/40] [Batch 9/20] [D loss: 0.1858] [G loss: 2.8940]\n"
     ]
    },
    {
     "name": "stderr",
     "output_type": "stream",
     "text": [
      "\r",
      " 50%|████████████████████████████████████████▌                                        | 10/20 [22:30<22:11, 133.12s/it]"
     ]
    },
    {
     "name": "stdout",
     "output_type": "stream",
     "text": [
      "[Epoch 1/40] [Batch 10/20] [D loss: 0.0874] [G loss: 3.5257]\n"
     ]
    },
    {
     "name": "stderr",
     "output_type": "stream",
     "text": [
      "\r",
      " 55%|████████████████████████████████████████████▌                                    | 11/20 [24:40<19:48, 132.10s/it]"
     ]
    },
    {
     "name": "stdout",
     "output_type": "stream",
     "text": [
      "[Epoch 1/40] [Batch 11/20] [D loss: 0.3087] [G loss: 3.3254]\n"
     ]
    },
    {
     "name": "stderr",
     "output_type": "stream",
     "text": [
      "\r",
      " 60%|████████████████████████████████████████████████▌                                | 12/20 [26:48<17:28, 131.03s/it]"
     ]
    },
    {
     "name": "stdout",
     "output_type": "stream",
     "text": [
      "[Epoch 1/40] [Batch 12/20] [D loss: 0.1151] [G loss: 3.1552]\n"
     ]
    },
    {
     "name": "stderr",
     "output_type": "stream",
     "text": [
      "\r",
      " 65%|████████████████████████████████████████████████████▋                            | 13/20 [28:57<15:13, 130.46s/it]"
     ]
    },
    {
     "name": "stdout",
     "output_type": "stream",
     "text": [
      "[Epoch 1/40] [Batch 13/20] [D loss: 0.1557] [G loss: 2.7087]\n"
     ]
    },
    {
     "name": "stderr",
     "output_type": "stream",
     "text": [
      "\r",
      " 70%|████████████████████████████████████████████████████████▋                        | 14/20 [31:04<12:54, 129.15s/it]"
     ]
    },
    {
     "name": "stdout",
     "output_type": "stream",
     "text": [
      "[Epoch 1/40] [Batch 14/20] [D loss: 0.0469] [G loss: 3.4635]\n"
     ]
    },
    {
     "name": "stderr",
     "output_type": "stream",
     "text": [
      "\r",
      " 75%|████████████████████████████████████████████████████████████▊                    | 15/20 [33:13<10:45, 129.10s/it]"
     ]
    },
    {
     "name": "stdout",
     "output_type": "stream",
     "text": [
      "[Epoch 1/40] [Batch 15/20] [D loss: 0.1642] [G loss: 3.3214]\n"
     ]
    },
    {
     "name": "stderr",
     "output_type": "stream",
     "text": [
      "\r",
      " 80%|████████████████████████████████████████████████████████████████▊                | 16/20 [35:23<08:37, 129.47s/it]"
     ]
    },
    {
     "name": "stdout",
     "output_type": "stream",
     "text": [
      "[Epoch 1/40] [Batch 16/20] [D loss: 0.0925] [G loss: 2.8557]\n"
     ]
    },
    {
     "name": "stderr",
     "output_type": "stream",
     "text": [
      "\r",
      " 85%|████████████████████████████████████████████████████████████████████▊            | 17/20 [37:41<06:36, 132.08s/it]"
     ]
    },
    {
     "name": "stdout",
     "output_type": "stream",
     "text": [
      "[Epoch 1/40] [Batch 17/20] [D loss: 0.0565] [G loss: 3.1455]\n"
     ]
    },
    {
     "name": "stderr",
     "output_type": "stream",
     "text": [
      "\r",
      " 90%|████████████████████████████████████████████████████████████████████████▉        | 18/20 [39:56<04:25, 132.87s/it]"
     ]
    },
    {
     "name": "stdout",
     "output_type": "stream",
     "text": [
      "[Epoch 1/40] [Batch 18/20] [D loss: 0.1277] [G loss: 3.1583]\n"
     ]
    },
    {
     "name": "stderr",
     "output_type": "stream",
     "text": [
      "\r",
      " 95%|████████████████████████████████████████████████████████████████████████████▉    | 19/20 [42:12<02:13, 133.97s/it]"
     ]
    },
    {
     "name": "stdout",
     "output_type": "stream",
     "text": [
      "[Epoch 1/40] [Batch 19/20] [D loss: 0.1369] [G loss: 2.9228]\n"
     ]
    },
    {
     "name": "stderr",
     "output_type": "stream",
     "text": [
      "100%|█████████████████████████████████████████████████████████████████████████████████| 20/20 [44:24<00:00, 133.25s/it]"
     ]
    },
    {
     "name": "stdout",
     "output_type": "stream",
     "text": [
      "[Epoch 1/40] [Batch 20/20] [D loss: 0.0681] [G loss: 4.5542]\n"
     ]
    },
    {
     "name": "stderr",
     "output_type": "stream",
     "text": [
      "\n",
      "  5%|████                                                                              | 1/20 [02:20<44:35, 140.81s/it]"
     ]
    },
    {
     "name": "stdout",
     "output_type": "stream",
     "text": [
      "[Epoch 2/40] [Batch 1/20] [D loss: 5.6061] [G loss: 3.6361]\n"
     ]
    },
    {
     "name": "stderr",
     "output_type": "stream",
     "text": [
      "\r",
      " 10%|████████▏                                                                         | 2/20 [04:25<39:26, 131.46s/it]"
     ]
    },
    {
     "name": "stdout",
     "output_type": "stream",
     "text": [
      "[Epoch 2/40] [Batch 2/20] [D loss: 0.5106] [G loss: 2.8171]\n"
     ]
    },
    {
     "name": "stderr",
     "output_type": "stream",
     "text": [
      "\r",
      " 15%|████████████▎                                                                     | 3/20 [06:34<36:56, 130.36s/it]"
     ]
    },
    {
     "name": "stdout",
     "output_type": "stream",
     "text": [
      "[Epoch 2/40] [Batch 3/20] [D loss: 0.4001] [G loss: 3.2210]\n"
     ]
    },
    {
     "name": "stderr",
     "output_type": "stream",
     "text": [
      "\r",
      " 20%|████████████████▍                                                                 | 4/20 [08:48<35:07, 131.73s/it]"
     ]
    },
    {
     "name": "stdout",
     "output_type": "stream",
     "text": [
      "[Epoch 2/40] [Batch 4/20] [D loss: 0.5707] [G loss: 3.4134]\n"
     ]
    },
    {
     "name": "stderr",
     "output_type": "stream",
     "text": [
      "\r",
      " 25%|████████████████████▌                                                             | 5/20 [11:00<32:55, 131.70s/it]"
     ]
    },
    {
     "name": "stdout",
     "output_type": "stream",
     "text": [
      "[Epoch 2/40] [Batch 5/20] [D loss: 0.2263] [G loss: 2.7114]\n"
     ]
    },
    {
     "name": "stderr",
     "output_type": "stream",
     "text": [
      "\r",
      " 30%|████████████████████████▌                                                         | 6/20 [13:11<30:40, 131.43s/it]"
     ]
    },
    {
     "name": "stdout",
     "output_type": "stream",
     "text": [
      "[Epoch 2/40] [Batch 6/20] [D loss: 0.4073] [G loss: 3.0178]\n"
     ]
    },
    {
     "name": "stderr",
     "output_type": "stream",
     "text": [
      "\r",
      " 35%|████████████████████████████▋                                                     | 7/20 [15:19<28:15, 130.45s/it]"
     ]
    },
    {
     "name": "stdout",
     "output_type": "stream",
     "text": [
      "[Epoch 2/40] [Batch 7/20] [D loss: 0.2205] [G loss: 3.1489]\n"
     ]
    },
    {
     "name": "stderr",
     "output_type": "stream",
     "text": [
      "\r",
      " 40%|████████████████████████████████▊                                                 | 8/20 [17:38<26:36, 133.03s/it]"
     ]
    },
    {
     "name": "stdout",
     "output_type": "stream",
     "text": [
      "[Epoch 2/40] [Batch 8/20] [D loss: 0.1007] [G loss: 3.1851]\n"
     ]
    },
    {
     "name": "stderr",
     "output_type": "stream",
     "text": [
      "\r",
      " 45%|████████████████████████████████████▉                                             | 9/20 [20:03<25:05, 136.85s/it]"
     ]
    },
    {
     "name": "stdout",
     "output_type": "stream",
     "text": [
      "[Epoch 2/40] [Batch 9/20] [D loss: 0.0621] [G loss: 3.4823]\n"
     ]
    },
    {
     "name": "stderr",
     "output_type": "stream",
     "text": [
      "\r",
      " 50%|████████████████████████████████████████▌                                        | 10/20 [22:43<24:00, 144.06s/it]"
     ]
    },
    {
     "name": "stdout",
     "output_type": "stream",
     "text": [
      "[Epoch 2/40] [Batch 10/20] [D loss: 0.0239] [G loss: 3.5427]\n"
     ]
    },
    {
     "name": "stderr",
     "output_type": "stream",
     "text": [
      "\r",
      " 55%|████████████████████████████████████████████▌                                    | 11/20 [24:49<20:46, 138.51s/it]"
     ]
    },
    {
     "name": "stdout",
     "output_type": "stream",
     "text": [
      "[Epoch 2/40] [Batch 11/20] [D loss: 0.2995] [G loss: 3.0482]\n"
     ]
    },
    {
     "name": "stderr",
     "output_type": "stream",
     "text": [
      "\r",
      " 60%|████████████████████████████████████████████████▌                                | 12/20 [27:05<18:21, 137.67s/it]"
     ]
    },
    {
     "name": "stdout",
     "output_type": "stream",
     "text": [
      "[Epoch 2/40] [Batch 12/20] [D loss: 0.0856] [G loss: 3.0131]\n"
     ]
    },
    {
     "name": "stderr",
     "output_type": "stream",
     "text": [
      "\r",
      " 65%|████████████████████████████████████████████████████▋                            | 13/20 [29:25<16:09, 138.57s/it]"
     ]
    },
    {
     "name": "stdout",
     "output_type": "stream",
     "text": [
      "[Epoch 2/40] [Batch 13/20] [D loss: 0.1689] [G loss: 2.9899]\n"
     ]
    },
    {
     "name": "stderr",
     "output_type": "stream",
     "text": [
      "\r",
      " 70%|████████████████████████████████████████████████████████▋                        | 14/20 [31:46<13:55, 139.32s/it]"
     ]
    },
    {
     "name": "stdout",
     "output_type": "stream",
     "text": [
      "[Epoch 2/40] [Batch 14/20] [D loss: 0.1504] [G loss: 4.0406]\n"
     ]
    },
    {
     "name": "stderr",
     "output_type": "stream",
     "text": [
      "\r",
      " 75%|████████████████████████████████████████████████████████████▊                    | 15/20 [34:07<11:37, 139.57s/it]"
     ]
    },
    {
     "name": "stdout",
     "output_type": "stream",
     "text": [
      "[Epoch 2/40] [Batch 15/20] [D loss: 0.1218] [G loss: 3.4055]\n"
     ]
    },
    {
     "name": "stderr",
     "output_type": "stream",
     "text": [
      "\r",
      " 80%|████████████████████████████████████████████████████████████████▊                | 16/20 [36:16<09:05, 136.39s/it]"
     ]
    },
    {
     "name": "stdout",
     "output_type": "stream",
     "text": [
      "[Epoch 2/40] [Batch 16/20] [D loss: 0.5047] [G loss: 3.1525]\n"
     ]
    },
    {
     "name": "stderr",
     "output_type": "stream",
     "text": [
      "\r",
      " 85%|████████████████████████████████████████████████████████████████████▊            | 17/20 [38:22<06:40, 133.50s/it]"
     ]
    },
    {
     "name": "stdout",
     "output_type": "stream",
     "text": [
      "[Epoch 2/40] [Batch 17/20] [D loss: 0.4572] [G loss: 2.6200]\n"
     ]
    },
    {
     "name": "stderr",
     "output_type": "stream",
     "text": [
      "\r",
      " 90%|████████████████████████████████████████████████████████████████████████▉        | 18/20 [40:42<04:30, 135.24s/it]"
     ]
    },
    {
     "name": "stdout",
     "output_type": "stream",
     "text": [
      "[Epoch 2/40] [Batch 18/20] [D loss: 0.2852] [G loss: 3.1469]\n"
     ]
    },
    {
     "name": "stderr",
     "output_type": "stream",
     "text": [
      "\r",
      " 95%|████████████████████████████████████████████████████████████████████████████▉    | 19/20 [42:55<02:14, 134.75s/it]"
     ]
    },
    {
     "name": "stdout",
     "output_type": "stream",
     "text": [
      "[Epoch 2/40] [Batch 19/20] [D loss: 0.1632] [G loss: 2.6155]\n"
     ]
    },
    {
     "name": "stderr",
     "output_type": "stream",
     "text": [
      "100%|█████████████████████████████████████████████████████████████████████████████████| 20/20 [45:05<00:00, 135.28s/it]"
     ]
    },
    {
     "name": "stdout",
     "output_type": "stream",
     "text": [
      "[Epoch 2/40] [Batch 20/20] [D loss: 0.0669] [G loss: 2.0675]\n"
     ]
    },
    {
     "name": "stderr",
     "output_type": "stream",
     "text": [
      "\n",
      "  5%|████                                                                              | 1/20 [02:09<40:52, 129.09s/it]"
     ]
    },
    {
     "name": "stdout",
     "output_type": "stream",
     "text": [
      "[Epoch 3/40] [Batch 1/20] [D loss: 0.1385] [G loss: 3.9801]\n"
     ]
    },
    {
     "name": "stderr",
     "output_type": "stream",
     "text": [
      "  5%|████                                                                            | 1/20 [03:15<1:01:53, 195.44s/it]\n"
     ]
    },
    {
     "ename": "KeyboardInterrupt",
     "evalue": "",
     "output_type": "error",
     "traceback": [
      "\u001b[1;31m---------------------------------------------------------------------------\u001b[0m",
      "\u001b[1;31mKeyboardInterrupt\u001b[0m                         Traceback (most recent call last)",
      "Cell \u001b[1;32mIn[9], line 15\u001b[0m\n\u001b[0;32m     12\u001b[0m generator\u001b[38;5;241m.\u001b[39mtrain()\n\u001b[0;32m     13\u001b[0m discriminator\u001b[38;5;241m.\u001b[39mtrain()\n\u001b[1;32m---> 15\u001b[0m \u001b[43mtrain_esrgan\u001b[49m\u001b[43m(\u001b[49m\u001b[43mgenerator\u001b[49m\u001b[43m,\u001b[49m\u001b[43m \u001b[49m\u001b[43mdiscriminator\u001b[49m\u001b[43m,\u001b[49m\u001b[43m \u001b[49m\u001b[43mloader\u001b[49m\u001b[43m,\u001b[49m\u001b[43m \u001b[49m\u001b[43mnum_epochs\u001b[49m\u001b[43m,\u001b[49m\u001b[43m \u001b[49m\u001b[43mdevice\u001b[49m\u001b[43m)\u001b[49m\n",
      "Cell \u001b[1;32mIn[8], line 51\u001b[0m, in \u001b[0;36mtrain_esrgan\u001b[1;34m(generator, discriminator, loader, num_epochs, device, save_dir)\u001b[0m\n\u001b[0;32m     49\u001b[0m \u001b[38;5;66;03m# Total discriminator loss\u001b[39;00m\n\u001b[0;32m     50\u001b[0m d_loss \u001b[38;5;241m=\u001b[39m d_loss_real \u001b[38;5;241m+\u001b[39m d_loss_fake\n\u001b[1;32m---> 51\u001b[0m \u001b[43md_loss\u001b[49m\u001b[38;5;241;43m.\u001b[39;49m\u001b[43mbackward\u001b[49m\u001b[43m(\u001b[49m\u001b[43m)\u001b[49m\n\u001b[0;32m     52\u001b[0m opt_disc\u001b[38;5;241m.\u001b[39mstep()\n\u001b[0;32m     54\u001b[0m \u001b[38;5;66;03m# Train Generator\u001b[39;00m\n",
      "File \u001b[1;32m~\\anaconda3\\lib\\site-packages\\torch\\_tensor.py:487\u001b[0m, in \u001b[0;36mTensor.backward\u001b[1;34m(self, gradient, retain_graph, create_graph, inputs)\u001b[0m\n\u001b[0;32m    477\u001b[0m \u001b[38;5;28;01mif\u001b[39;00m has_torch_function_unary(\u001b[38;5;28mself\u001b[39m):\n\u001b[0;32m    478\u001b[0m     \u001b[38;5;28;01mreturn\u001b[39;00m handle_torch_function(\n\u001b[0;32m    479\u001b[0m         Tensor\u001b[38;5;241m.\u001b[39mbackward,\n\u001b[0;32m    480\u001b[0m         (\u001b[38;5;28mself\u001b[39m,),\n\u001b[1;32m   (...)\u001b[0m\n\u001b[0;32m    485\u001b[0m         inputs\u001b[38;5;241m=\u001b[39minputs,\n\u001b[0;32m    486\u001b[0m     )\n\u001b[1;32m--> 487\u001b[0m \u001b[43mtorch\u001b[49m\u001b[38;5;241;43m.\u001b[39;49m\u001b[43mautograd\u001b[49m\u001b[38;5;241;43m.\u001b[39;49m\u001b[43mbackward\u001b[49m\u001b[43m(\u001b[49m\n\u001b[0;32m    488\u001b[0m \u001b[43m    \u001b[49m\u001b[38;5;28;43mself\u001b[39;49m\u001b[43m,\u001b[49m\u001b[43m \u001b[49m\u001b[43mgradient\u001b[49m\u001b[43m,\u001b[49m\u001b[43m \u001b[49m\u001b[43mretain_graph\u001b[49m\u001b[43m,\u001b[49m\u001b[43m \u001b[49m\u001b[43mcreate_graph\u001b[49m\u001b[43m,\u001b[49m\u001b[43m \u001b[49m\u001b[43minputs\u001b[49m\u001b[38;5;241;43m=\u001b[39;49m\u001b[43minputs\u001b[49m\n\u001b[0;32m    489\u001b[0m \u001b[43m\u001b[49m\u001b[43m)\u001b[49m\n",
      "File \u001b[1;32m~\\anaconda3\\lib\\site-packages\\torch\\autograd\\__init__.py:200\u001b[0m, in \u001b[0;36mbackward\u001b[1;34m(tensors, grad_tensors, retain_graph, create_graph, grad_variables, inputs)\u001b[0m\n\u001b[0;32m    195\u001b[0m     retain_graph \u001b[38;5;241m=\u001b[39m create_graph\n\u001b[0;32m    197\u001b[0m \u001b[38;5;66;03m# The reason we repeat same the comment below is that\u001b[39;00m\n\u001b[0;32m    198\u001b[0m \u001b[38;5;66;03m# some Python versions print out the first line of a multi-line function\u001b[39;00m\n\u001b[0;32m    199\u001b[0m \u001b[38;5;66;03m# calls in the traceback and some print out the last line\u001b[39;00m\n\u001b[1;32m--> 200\u001b[0m \u001b[43mVariable\u001b[49m\u001b[38;5;241;43m.\u001b[39;49m\u001b[43m_execution_engine\u001b[49m\u001b[38;5;241;43m.\u001b[39;49m\u001b[43mrun_backward\u001b[49m\u001b[43m(\u001b[49m\u001b[43m  \u001b[49m\u001b[38;5;66;43;03m# Calls into the C++ engine to run the backward pass\u001b[39;49;00m\n\u001b[0;32m    201\u001b[0m \u001b[43m    \u001b[49m\u001b[43mtensors\u001b[49m\u001b[43m,\u001b[49m\u001b[43m \u001b[49m\u001b[43mgrad_tensors_\u001b[49m\u001b[43m,\u001b[49m\u001b[43m \u001b[49m\u001b[43mretain_graph\u001b[49m\u001b[43m,\u001b[49m\u001b[43m \u001b[49m\u001b[43mcreate_graph\u001b[49m\u001b[43m,\u001b[49m\u001b[43m \u001b[49m\u001b[43minputs\u001b[49m\u001b[43m,\u001b[49m\n\u001b[0;32m    202\u001b[0m \u001b[43m    \u001b[49m\u001b[43mallow_unreachable\u001b[49m\u001b[38;5;241;43m=\u001b[39;49m\u001b[38;5;28;43;01mTrue\u001b[39;49;00m\u001b[43m,\u001b[49m\u001b[43m \u001b[49m\u001b[43maccumulate_grad\u001b[49m\u001b[38;5;241;43m=\u001b[39;49m\u001b[38;5;28;43;01mTrue\u001b[39;49;00m\u001b[43m)\u001b[49m\n",
      "\u001b[1;31mKeyboardInterrupt\u001b[0m: "
     ]
    }
   ],
   "source": [
    "dataset = MyImageFolder(root_dir=\"DIV2K_train_HR\")\n",
    "loader = DataLoader(\n",
    "        dataset,\n",
    "        batch_size=40,\n",
    "        shuffle=True,\n",
    "        pin_memory=True,\n",
    "    )\n",
    "generator = Generator(in_channels=3).to(device) \n",
    "discriminator = Discriminator(in_channels=3).to(device) \n",
    "initialize_weights(generator)\n",
    "num_epochs = 40\n",
    "generator.train()\n",
    "discriminator.train()\n",
    "\n",
    "train_esrgan(generator, discriminator, loader, num_epochs, device)"
   ]
  },
  {
   "cell_type": "code",
   "execution_count": 10,
   "id": "cabdd153",
   "metadata": {},
   "outputs": [],
   "source": [
    "torch.save(generator.state_dict(), 'generator_model.pth')"
   ]
  },
  {
   "cell_type": "code",
   "execution_count": null,
   "id": "6bcb4571",
   "metadata": {},
   "outputs": [],
   "source": [
    "generator = Generator()\n",
    "generator.load_state_dict(torch.load('generator_model.pth'))"
   ]
  },
  {
   "cell_type": "code",
   "execution_count": 5,
   "id": "7c9ef0ca",
   "metadata": {},
   "outputs": [],
   "source": [
    "# Generate samples from the generator\n",
    "# Load the low-resolution image\n",
    "low_res_image_path = \"test.png\" \n",
    "low_res_image = Image.open(low_res_image_path)\n",
    "\n",
    "\n",
    "transform = transforms.ToTensor()\n",
    "low_res_image = transform(low_res_image).unsqueeze(0)\n",
    "print(low_res_image.shape)\n",
    "\n",
    "\n",
    "low_res_image = low_res_image.to(device)\n",
    "# generator.eval() \n"
   ]
  },
  {
   "cell_type": "code",
   "execution_count": 19,
   "id": "7f8e50e5",
   "metadata": {},
   "outputs": [
    {
     "data": {
      "image/png": "[encoded data removed]",
      "text/plain": [
       "<Figure size 640x480 with 1 Axes>"
      ]
     },
     "metadata": {},
     "output_type": "display_data"
    },
    {
     "name": "stdout",
     "output_type": "stream",
     "text": [
      "torch.Size([1, 3, 128, 128])\n"
     ]
    }
   ],
   "source": [
    "import torch.nn.functional as F\n",
    "\n",
    "\n",
    "grayscale_tensor =low_res_image\n",
    "\n",
    "# Resize the tensor to have size (batch_size, 1, target_height, target_width)\n",
    "target_height, target_width = 128, 128\n",
    "resized_tensor = F.interpolate(grayscale_tensor, size=(target_height, target_width), mode='bilinear', align_corners=False)\n",
    "\n",
    "# Convert grayscale to RGB by replicating the single channel to create three channels\n",
    "rgb_tensor = torch.cat((resized_tensor, resized_tensor, resized_tensor), dim=1)\n",
    "\n",
    "transform = transforms.ToPILImage()\n",
    "rgb_image = transform(rgb_tensor.squeeze(0))  # Squeeze the batch dimension (1) before converting\n",
    "\n",
    "plt.imshow(rgb_image)\n",
    "plt.show()\n",
    "# # Save the RGB image\n",
    "# rgb_image.save(\"output_image.png\")\n",
    "\n",
    "print(rgb_tensor.shape)"
   ]
  },
  {
   "cell_type": "code",
   "execution_count": 25,
   "id": "dbb1c859",
   "metadata": {},
   "outputs": [],
   "source": [
    "generated_samples = generator(rgb_tensor)\n",
    "\n",
    "\n",
    "save_location = 'generated_images/Final_generated_samples.png'\n",
    "\n",
    "save_image(generated_samples, save_location, normalize=True)"
   ]
  },
  {
   "cell_type": "code",
   "execution_count": null,
   "id": "d9cab7be",
   "metadata": {},
   "outputs": [],
   "source": []
  }
 ],
 "metadata": {
  "kernelspec": {
   "display_name": "Python 3 (ipykernel)",
   "language": "python",
   "name": "python3"
  },
  "language_info": {
   "codemirror_mode": {
    "name": "ipython",
    "version": 3
   },
   "file_extension": ".py",
   "mimetype": "text/x-python",
   "name": "python",
   "nbconvert_exporter": "python",
   "pygments_lexer": "ipython3",
   "version": "3.9.16"
  }
 },
 "nbformat": 4,
 "nbformat_minor": 5
}
